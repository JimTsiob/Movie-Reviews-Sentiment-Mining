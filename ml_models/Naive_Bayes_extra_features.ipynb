{
 "cells": [
  {
   "cell_type": "markdown",
   "id": "6deaa5ab",
   "metadata": {},
   "source": [
    "## Imports"
   ]
  },
  {
   "cell_type": "code",
   "execution_count": 1,
   "id": "262cac91",
   "metadata": {},
   "outputs": [
    {
     "name": "stderr",
     "output_type": "stream",
     "text": [
      "[nltk_data] Downloading package punkt to\n",
      "[nltk_data]     C:\\Users\\dits\\AppData\\Roaming\\nltk_data...\n",
      "[nltk_data]   Package punkt is already up-to-date!\n",
      "[nltk_data] Downloading package wordnet to\n",
      "[nltk_data]     C:\\Users\\dits\\AppData\\Roaming\\nltk_data...\n",
      "[nltk_data]   Package wordnet is already up-to-date!\n"
     ]
    },
    {
     "name": "stdout",
     "output_type": "stream",
     "text": [
      "imports done.\n"
     ]
    }
   ],
   "source": [
    "from sklearn.naive_bayes import MultinomialNB\n",
    "import pandas as pd\n",
    "import numpy as np\n",
    "from pandarallel import pandarallel\n",
    "from sklearn.metrics import confusion_matrix,classification_report\n",
    "from sklearn.model_selection import train_test_split, GridSearchCV\n",
    "from sklearn.feature_extraction.text import HashingVectorizer, CountVectorizer\n",
    "from sklearn.pipeline import Pipeline\n",
    "import nltk\n",
    "import re\n",
    "from nltk.corpus import stopwords\n",
    "from nltk.tokenize import word_tokenize\n",
    "from nltk.stem import WordNetLemmatizer\n",
    "nltk.download('punkt')\n",
    "nltk.download('wordnet')\n",
    "from sklearn.model_selection import learning_curve\n",
    "import matplotlib.pyplot as plt\n",
    "import time\n",
    "print('imports done.')"
   ]
  },
  {
   "cell_type": "markdown",
   "id": "8bf6be2f",
   "metadata": {},
   "source": [
    "## Data loading and pre-processing"
   ]
  },
  {
   "cell_type": "code",
   "execution_count": 2,
   "id": "2c8280c8",
   "metadata": {},
   "outputs": [
    {
     "data": {
      "text/html": [
       "<div>\n",
       "<style scoped>\n",
       "    .dataframe tbody tr th:only-of-type {\n",
       "        vertical-align: middle;\n",
       "    }\n",
       "\n",
       "    .dataframe tbody tr th {\n",
       "        vertical-align: top;\n",
       "    }\n",
       "\n",
       "    .dataframe thead th {\n",
       "        text-align: right;\n",
       "    }\n",
       "</style>\n",
       "<table border=\"1\" class=\"dataframe\">\n",
       "  <thead>\n",
       "    <tr style=\"text-align: right;\">\n",
       "      <th></th>\n",
       "      <th>review</th>\n",
       "      <th>rating</th>\n",
       "      <th>label</th>\n",
       "      <th>positive_keywords</th>\n",
       "      <th>negative_keywords</th>\n",
       "    </tr>\n",
       "  </thead>\n",
       "  <tbody>\n",
       "    <tr>\n",
       "      <th>167c69fa-1e1b-4715-be0e-85d651372029</th>\n",
       "      <td>Lau Wing fights his way into Shaolin, apologiz...</td>\n",
       "      <td>3/10</td>\n",
       "      <td>Negative</td>\n",
       "      <td>41</td>\n",
       "      <td>18</td>\n",
       "    </tr>\n",
       "    <tr>\n",
       "      <th>3b99268c-46c3-483a-ae1f-a075ba183ca6</th>\n",
       "      <td>Every once in awhile you find a gem and you kn...</td>\n",
       "      <td>10/10</td>\n",
       "      <td>Positive</td>\n",
       "      <td>10</td>\n",
       "      <td>4</td>\n",
       "    </tr>\n",
       "    <tr>\n",
       "      <th>1ab96efe-6f5f-4608-bdff-dbafae9e530b</th>\n",
       "      <td>I was completely mesmerized by Lekin and espec...</td>\n",
       "      <td>9/10</td>\n",
       "      <td>Positive</td>\n",
       "      <td>39</td>\n",
       "      <td>12</td>\n",
       "    </tr>\n",
       "    <tr>\n",
       "      <th>5f011135-aee8-4f04-add2-dfffeebd94fb</th>\n",
       "      <td>Greatly enjoyed the development of the story l...</td>\n",
       "      <td>9/10</td>\n",
       "      <td>Positive</td>\n",
       "      <td>30</td>\n",
       "      <td>7</td>\n",
       "    </tr>\n",
       "    <tr>\n",
       "      <th>1a4efffa-3446-4fe5-9c43-a73411cdc45d</th>\n",
       "      <td>Yaara Sili Sili Virah Ki Raat Ka Jalna'Lekin' ...</td>\n",
       "      <td>8/10</td>\n",
       "      <td>Positive</td>\n",
       "      <td>57</td>\n",
       "      <td>20</td>\n",
       "    </tr>\n",
       "  </tbody>\n",
       "</table>\n",
       "</div>"
      ],
      "text/plain": [
       "                                                                                 review  \\\n",
       "167c69fa-1e1b-4715-be0e-85d651372029  Lau Wing fights his way into Shaolin, apologiz...   \n",
       "3b99268c-46c3-483a-ae1f-a075ba183ca6  Every once in awhile you find a gem and you kn...   \n",
       "1ab96efe-6f5f-4608-bdff-dbafae9e530b  I was completely mesmerized by Lekin and espec...   \n",
       "5f011135-aee8-4f04-add2-dfffeebd94fb  Greatly enjoyed the development of the story l...   \n",
       "1a4efffa-3446-4fe5-9c43-a73411cdc45d  Yaara Sili Sili Virah Ki Raat Ka Jalna'Lekin' ...   \n",
       "\n",
       "                                     rating     label positive_keywords  \\\n",
       "167c69fa-1e1b-4715-be0e-85d651372029   3/10  Negative                41   \n",
       "3b99268c-46c3-483a-ae1f-a075ba183ca6  10/10  Positive                10   \n",
       "1ab96efe-6f5f-4608-bdff-dbafae9e530b   9/10  Positive                39   \n",
       "5f011135-aee8-4f04-add2-dfffeebd94fb   9/10  Positive                30   \n",
       "1a4efffa-3446-4fe5-9c43-a73411cdc45d   8/10  Positive                57   \n",
       "\n",
       "                                     negative_keywords  \n",
       "167c69fa-1e1b-4715-be0e-85d651372029                18  \n",
       "3b99268c-46c3-483a-ae1f-a075ba183ca6                 4  \n",
       "1ab96efe-6f5f-4608-bdff-dbafae9e530b                12  \n",
       "5f011135-aee8-4f04-add2-dfffeebd94fb                 7  \n",
       "1a4efffa-3446-4fe5-9c43-a73411cdc45d                20  "
      ]
     },
     "execution_count": 2,
     "metadata": {},
     "output_type": "execute_result"
    }
   ],
   "source": [
    "movie_reviews_dataset = pd.read_json('../dataset_management/dataset_with_keyword_counts.json')\n",
    "\n",
    "# Transpose dataset to put IDs as rows and have 5 columns instead.\n",
    "movie_reviews_dataset = movie_reviews_dataset.T\n",
    "\n",
    "movie_reviews_dataset.head()"
   ]
  },
  {
   "cell_type": "code",
   "execution_count": 3,
   "id": "798b751c",
   "metadata": {},
   "outputs": [
    {
     "data": {
      "text/plain": [
       "\"Lau Wing fights his way into Shaolin, apologizing. Then he has a long talk with an old monk. Lee Wan Chung leads another group of monks outside. Lau Wing wants to learn kung fu for revenge. The old monk gives him a special sword then dies at will apparently. Lee and gang will not let him leave. The monks surround him in what they call an arhat formation. There is a fight so pathetically choreographed I cringed. He escapes by flying to the roof. Cut to the lovely Ting sisters fight a thief in a tea house. Cut to a fortune teller tells a swordsman about the sword. Cut back to our hero at a table with the sisters and everyone is discussing an important book.I always begin my reviews with a summary of the opening scenes. The reason for that is to make sure we are talking about the same movie. Many movies in this genre have more than one title and the titles typically have nothing to do with anything in the movie. This movie as an example has no jade hairpin at all. Though I have summarized the first 40 minutes of this movie I still have no idea of what is going on. At about the 60 minute mark Chan Sing gives an expository speech but too little too late.The plot is non-existent or at least very confusing. Part of the problem is the picture is not wide screen but falsely stretched to fill the screen and the subtitles are cut off on both sides. Plus the subtitles are solid white and easily wash out. Even if they are accurately translated I am still missing about one third of what was spoken. Concerning the action, I cannot decide if the fight choreography or execution is worse but I've seen better fights in schoolyards. I am rating this below average and cannot recommend it to even the most hard core fan.\""
      ]
     },
     "execution_count": 3,
     "metadata": {},
     "output_type": "execute_result"
    }
   ],
   "source": [
    "movie_reviews_dataset['review'].iloc[0]"
   ]
  },
  {
   "cell_type": "code",
   "execution_count": 4,
   "id": "b1a52412",
   "metadata": {},
   "outputs": [
    {
     "data": {
      "text/plain": [
       "47947"
      ]
     },
     "execution_count": 4,
     "metadata": {},
     "output_type": "execute_result"
    }
   ],
   "source": [
    "len(movie_reviews_dataset)"
   ]
  },
  {
   "cell_type": "code",
   "execution_count": 5,
   "id": "8d98364d",
   "metadata": {},
   "outputs": [
    {
     "name": "stdout",
     "output_type": "stream",
     "text": [
      "NaN (before cleanup) ?: \n",
      " review                0\n",
      "rating                0\n",
      "label                 0\n",
      "positive_keywords    21\n",
      "negative_keywords    92\n",
      "dtype: int64\n",
      "NaN (after cleanup) ?: \n",
      " review               0\n",
      "rating               0\n",
      "label                0\n",
      "positive_keywords    0\n",
      "negative_keywords    0\n",
      "dtype: int64\n"
     ]
    }
   ],
   "source": [
    "# Check for NaN values and remove them\n",
    "print(\"NaN (before cleanup) ?: \\n\", movie_reviews_dataset.isnull().sum())\n",
    "\n",
    "movie_reviews_dataset['review'] = movie_reviews_dataset['review'].fillna('')\n",
    "movie_reviews_dataset['positive_keywords'] = movie_reviews_dataset['positive_keywords'].fillna(0)\n",
    "movie_reviews_dataset['negative_keywords'] = movie_reviews_dataset['negative_keywords'].fillna(0)\n",
    "\n",
    "print(\"NaN (after cleanup) ?: \\n\", movie_reviews_dataset.isnull().sum())"
   ]
  },
  {
   "cell_type": "code",
   "execution_count": 6,
   "id": "82ae7a91",
   "metadata": {},
   "outputs": [
    {
     "name": "stdout",
     "output_type": "stream",
     "text": [
      "INFO: Pandarallel will run on 4 workers.\n",
      "INFO: Pandarallel will use standard multiprocessing data transfer (pipe) to transfer data between the main process and workers.\n",
      "\n",
      "WARNING: You are on Windows. If you detect any issue with pandarallel, be sure you checked out the Troubleshooting page:\n",
      "https://nalepae.github.io/pandarallel/troubleshooting/\n"
     ]
    },
    {
     "data": {
      "application/vnd.jupyter.widget-view+json": {
       "model_id": "235ef0a0f08b40d5ac5ebbfd245937a8",
       "version_major": 2,
       "version_minor": 0
      },
      "text/plain": [
       "VBox(children=(HBox(children=(IntProgress(value=0, description='0.00%', max=11987), Label(value='0 / 11987')))…"
      ]
     },
     "metadata": {},
     "output_type": "display_data"
    },
    {
     "name": "stdout",
     "output_type": "stream",
     "text": [
      "Example of preprocessing train: \n",
      "lau wing fight way shaolin apologizing long talk old monk lee wan chung lead another group monk outside lau wing want learn kung fu revenge old monk give special sword dy apparently lee gang let leave monk surround call arhat formation fight pathetically choreographed cringed escape flying roof cut lovely ting sister fight thief tea house cut fortune teller tell swordsman sword cut back hero table sister everyone discussing important book always begin review summary opening scene reason make sure talking movie many movie genre one title title typically nothing anything movie movie example jade hairpin though summarized first  minute movie still idea going  minute mark chan sing give expository speech little late plot non existent least confusing part problem picture wide screen falsely stretched fill screen subtitle cut side plus subtitle solid white easily wash even accurately translated still missing one third spoken concerning action decide fight choreography execution worse seen better fight schoolyard rating average recommend even hard core fan\n"
     ]
    }
   ],
   "source": [
    "# Text preprocessing for review column\n",
    "# Lower all text\n",
    "\n",
    "movie_reviews_dataset['review'] = movie_reviews_dataset['review'].str.lower()\n",
    "\n",
    "# Initialize pandarallel\n",
    "# I used pandarallel because it applies the functions much faster than a normal pandas apply.\n",
    "pandarallel.initialize(nb_workers=4,progress_bar=True)\n",
    "\n",
    "# Remove all special characters\n",
    "def remove_special_chars(text):\n",
    "    return ''.join(x if x.isalnum() else ' ' for x in text)\n",
    "\n",
    "movie_reviews_dataset['review'] = movie_reviews_dataset['review'].parallel_apply(remove_special_chars)\n",
    "\n",
    "# get stopwords.\n",
    "stop_words = set(stopwords.words('english'))\n",
    "\n",
    "# Remove stop_words\n",
    "def remove_stopwords(text):\n",
    "    words = word_tokenize(text)\n",
    "    return [x for x in words if x not in stop_words]\n",
    "\n",
    "\n",
    "movie_reviews_dataset['review'] = movie_reviews_dataset['review'].apply(remove_stopwords)\n",
    "\n",
    "# Lemmatization\n",
    "def lemmatize_word(text):\n",
    "    wordnet = WordNetLemmatizer()\n",
    "    return \" \".join([wordnet.lemmatize(word) for word in text])\n",
    "\n",
    "\n",
    "movie_reviews_dataset['review'] = movie_reviews_dataset['review'].apply(lemmatize_word)\n",
    "\n",
    "# Remove numbers\n",
    "def remove_numbers(text):\n",
    "    return re.sub(r'\\d+', '', text)\n",
    "\n",
    "movie_reviews_dataset['review'] = movie_reviews_dataset['review'].apply(remove_numbers)\n",
    "\n",
    "print('Example of preprocessing train: ')\n",
    "print(movie_reviews_dataset['review'].iloc[0])"
   ]
  },
  {
   "cell_type": "markdown",
   "id": "b028f098",
   "metadata": {},
   "source": [
    "## Model creation and evaluation"
   ]
  },
  {
   "cell_type": "code",
   "execution_count": 7,
   "id": "23a794b5",
   "metadata": {},
   "outputs": [
    {
     "name": "stdout",
     "output_type": "stream",
     "text": [
      "data vectorization complete.\n"
     ]
    }
   ],
   "source": [
    "X = movie_reviews_dataset[['review','positive_keywords', 'negative_keywords']]\n",
    "y = movie_reviews_dataset['label']\n",
    "vectorizer = CountVectorizer()\n",
    "X_train, X_test, y_train, y_test = train_test_split(X, y, test_size=0.5, random_state=42)\n",
    "\n",
    "train_text = X_train['review']\n",
    "train_text = vectorizer.fit_transform(train_text)\n",
    "X_train['review'] = train_text.shape[0]\n",
    "\n",
    "test_text = X_test['review']\n",
    "test_text = vectorizer.transform(test_text)\n",
    "X_test['review'] = test_text.shape[0]\n",
    "\n",
    "print('data vectorization complete.')"
   ]
  },
  {
   "cell_type": "code",
   "execution_count": 8,
   "id": "9f9c2eb6",
   "metadata": {},
   "outputs": [
    {
     "data": {
      "text/html": [
       "<style>#sk-container-id-1 {color: black;background-color: white;}#sk-container-id-1 pre{padding: 0;}#sk-container-id-1 div.sk-toggleable {background-color: white;}#sk-container-id-1 label.sk-toggleable__label {cursor: pointer;display: block;width: 100%;margin-bottom: 0;padding: 0.3em;box-sizing: border-box;text-align: center;}#sk-container-id-1 label.sk-toggleable__label-arrow:before {content: \"▸\";float: left;margin-right: 0.25em;color: #696969;}#sk-container-id-1 label.sk-toggleable__label-arrow:hover:before {color: black;}#sk-container-id-1 div.sk-estimator:hover label.sk-toggleable__label-arrow:before {color: black;}#sk-container-id-1 div.sk-toggleable__content {max-height: 0;max-width: 0;overflow: hidden;text-align: left;background-color: #f0f8ff;}#sk-container-id-1 div.sk-toggleable__content pre {margin: 0.2em;color: black;border-radius: 0.25em;background-color: #f0f8ff;}#sk-container-id-1 input.sk-toggleable__control:checked~div.sk-toggleable__content {max-height: 200px;max-width: 100%;overflow: auto;}#sk-container-id-1 input.sk-toggleable__control:checked~label.sk-toggleable__label-arrow:before {content: \"▾\";}#sk-container-id-1 div.sk-estimator input.sk-toggleable__control:checked~label.sk-toggleable__label {background-color: #d4ebff;}#sk-container-id-1 div.sk-label input.sk-toggleable__control:checked~label.sk-toggleable__label {background-color: #d4ebff;}#sk-container-id-1 input.sk-hidden--visually {border: 0;clip: rect(1px 1px 1px 1px);clip: rect(1px, 1px, 1px, 1px);height: 1px;margin: -1px;overflow: hidden;padding: 0;position: absolute;width: 1px;}#sk-container-id-1 div.sk-estimator {font-family: monospace;background-color: #f0f8ff;border: 1px dotted black;border-radius: 0.25em;box-sizing: border-box;margin-bottom: 0.5em;}#sk-container-id-1 div.sk-estimator:hover {background-color: #d4ebff;}#sk-container-id-1 div.sk-parallel-item::after {content: \"\";width: 100%;border-bottom: 1px solid gray;flex-grow: 1;}#sk-container-id-1 div.sk-label:hover label.sk-toggleable__label {background-color: #d4ebff;}#sk-container-id-1 div.sk-serial::before {content: \"\";position: absolute;border-left: 1px solid gray;box-sizing: border-box;top: 0;bottom: 0;left: 50%;z-index: 0;}#sk-container-id-1 div.sk-serial {display: flex;flex-direction: column;align-items: center;background-color: white;padding-right: 0.2em;padding-left: 0.2em;position: relative;}#sk-container-id-1 div.sk-item {position: relative;z-index: 1;}#sk-container-id-1 div.sk-parallel {display: flex;align-items: stretch;justify-content: center;background-color: white;position: relative;}#sk-container-id-1 div.sk-item::before, #sk-container-id-1 div.sk-parallel-item::before {content: \"\";position: absolute;border-left: 1px solid gray;box-sizing: border-box;top: 0;bottom: 0;left: 50%;z-index: -1;}#sk-container-id-1 div.sk-parallel-item {display: flex;flex-direction: column;z-index: 1;position: relative;background-color: white;}#sk-container-id-1 div.sk-parallel-item:first-child::after {align-self: flex-end;width: 50%;}#sk-container-id-1 div.sk-parallel-item:last-child::after {align-self: flex-start;width: 50%;}#sk-container-id-1 div.sk-parallel-item:only-child::after {width: 0;}#sk-container-id-1 div.sk-dashed-wrapped {border: 1px dashed gray;margin: 0 0.4em 0.5em 0.4em;box-sizing: border-box;padding-bottom: 0.4em;background-color: white;}#sk-container-id-1 div.sk-label label {font-family: monospace;font-weight: bold;display: inline-block;line-height: 1.2em;}#sk-container-id-1 div.sk-label-container {text-align: center;}#sk-container-id-1 div.sk-container {/* jupyter's `normalize.less` sets `[hidden] { display: none; }` but bootstrap.min.css set `[hidden] { display: none !important; }` so we also need the `!important` here to be able to override the default hidden behavior on the sphinx rendered scikit-learn.org. See: https://github.com/scikit-learn/scikit-learn/issues/21755 */display: inline-block !important;position: relative;}#sk-container-id-1 div.sk-text-repr-fallback {display: none;}</style><div id=\"sk-container-id-1\" class=\"sk-top-container\"><div class=\"sk-text-repr-fallback\"><pre>MultinomialNB()</pre><b>In a Jupyter environment, please rerun this cell to show the HTML representation or trust the notebook. <br />On GitHub, the HTML representation is unable to render, please try loading this page with nbviewer.org.</b></div><div class=\"sk-container\" hidden><div class=\"sk-item\"><div class=\"sk-estimator sk-toggleable\"><input class=\"sk-toggleable__control sk-hidden--visually\" id=\"sk-estimator-id-1\" type=\"checkbox\" checked><label for=\"sk-estimator-id-1\" class=\"sk-toggleable__label sk-toggleable__label-arrow\">MultinomialNB</label><div class=\"sk-toggleable__content\"><pre>MultinomialNB()</pre></div></div></div></div></div>"
      ],
      "text/plain": [
       "MultinomialNB()"
      ]
     },
     "execution_count": 8,
     "metadata": {},
     "output_type": "execute_result"
    }
   ],
   "source": [
    "naive_bayes = MultinomialNB()\n",
    "naive_bayes.fit(X_train, y_train)"
   ]
  },
  {
   "cell_type": "code",
   "execution_count": 9,
   "id": "8a169192",
   "metadata": {},
   "outputs": [
    {
     "name": "stdout",
     "output_type": "stream",
     "text": [
      "\n",
      "Confusion Matrix:\n",
      " [[    0  1004  3297]\n",
      " [    0  1302  3140]\n",
      " [    0  3293 11938]]\n"
     ]
    },
    {
     "name": "stderr",
     "output_type": "stream",
     "text": [
      "C:\\Users\\dits\\AppData\\Local\\anaconda3\\Lib\\site-packages\\sklearn\\metrics\\_classification.py:1344: UndefinedMetricWarning: Precision and F-score are ill-defined and being set to 0.0 in labels with no predicted samples. Use `zero_division` parameter to control this behavior.\n",
      "  _warn_prf(average, modifier, msg_start, len(result))\n"
     ]
    },
    {
     "name": "stdout",
     "output_type": "stream",
     "text": [
      "\n",
      "Classification Report:\n",
      "               precision    recall  f1-score   support\n",
      "\n",
      "    Negative       0.00      0.00      0.00      4301\n",
      "     Neutral       0.23      0.29      0.26      4442\n",
      "    Positive       0.65      0.78      0.71     15231\n",
      "\n",
      "    accuracy                           0.55     23974\n",
      "   macro avg       0.29      0.36      0.32     23974\n",
      "weighted avg       0.46      0.55      0.50     23974\n",
      "\n"
     ]
    },
    {
     "name": "stderr",
     "output_type": "stream",
     "text": [
      "C:\\Users\\dits\\AppData\\Local\\anaconda3\\Lib\\site-packages\\sklearn\\metrics\\_classification.py:1344: UndefinedMetricWarning: Precision and F-score are ill-defined and being set to 0.0 in labels with no predicted samples. Use `zero_division` parameter to control this behavior.\n",
      "  _warn_prf(average, modifier, msg_start, len(result))\n",
      "C:\\Users\\dits\\AppData\\Local\\anaconda3\\Lib\\site-packages\\sklearn\\metrics\\_classification.py:1344: UndefinedMetricWarning: Precision and F-score are ill-defined and being set to 0.0 in labels with no predicted samples. Use `zero_division` parameter to control this behavior.\n",
      "  _warn_prf(average, modifier, msg_start, len(result))\n"
     ]
    }
   ],
   "source": [
    "y_pred = naive_bayes.predict(X_test)\n",
    "\n",
    "cnf_matrix = confusion_matrix(y_test, y_pred)\n",
    "print(\"\\nConfusion Matrix:\\n\", cnf_matrix)\n",
    "\n",
    "print(\"\\nClassification Report:\\n\", classification_report(y_test, y_pred))"
   ]
  },
  {
   "cell_type": "markdown",
   "id": "721b046e",
   "metadata": {},
   "source": [
    "### Best hyperparam test"
   ]
  },
  {
   "cell_type": "code",
   "execution_count": 10,
   "id": "db79ef04",
   "metadata": {},
   "outputs": [
    {
     "name": "stdout",
     "output_type": "stream",
     "text": [
      "\n",
      "Confusion Matrix:\n",
      " [[    0  1004  3297]\n",
      " [    0  1302  3140]\n",
      " [    0  3293 11938]]\n"
     ]
    },
    {
     "name": "stderr",
     "output_type": "stream",
     "text": [
      "C:\\Users\\dits\\AppData\\Local\\anaconda3\\Lib\\site-packages\\sklearn\\metrics\\_classification.py:1344: UndefinedMetricWarning: Precision and F-score are ill-defined and being set to 0.0 in labels with no predicted samples. Use `zero_division` parameter to control this behavior.\n",
      "  _warn_prf(average, modifier, msg_start, len(result))\n"
     ]
    },
    {
     "name": "stdout",
     "output_type": "stream",
     "text": [
      "\n",
      "Classification Report:\n",
      "               precision    recall  f1-score   support\n",
      "\n",
      "    Negative       0.00      0.00      0.00      4301\n",
      "     Neutral       0.23      0.29      0.26      4442\n",
      "    Positive       0.65      0.78      0.71     15231\n",
      "\n",
      "    accuracy                           0.55     23974\n",
      "   macro avg       0.29      0.36      0.32     23974\n",
      "weighted avg       0.46      0.55      0.50     23974\n",
      "\n"
     ]
    },
    {
     "name": "stderr",
     "output_type": "stream",
     "text": [
      "C:\\Users\\dits\\AppData\\Local\\anaconda3\\Lib\\site-packages\\sklearn\\metrics\\_classification.py:1344: UndefinedMetricWarning: Precision and F-score are ill-defined and being set to 0.0 in labels with no predicted samples. Use `zero_division` parameter to control this behavior.\n",
      "  _warn_prf(average, modifier, msg_start, len(result))\n",
      "C:\\Users\\dits\\AppData\\Local\\anaconda3\\Lib\\site-packages\\sklearn\\metrics\\_classification.py:1344: UndefinedMetricWarning: Precision and F-score are ill-defined and being set to 0.0 in labels with no predicted samples. Use `zero_division` parameter to control this behavior.\n",
      "  _warn_prf(average, modifier, msg_start, len(result))\n"
     ]
    }
   ],
   "source": [
    "# Using best hyperparams from previous notebook\n",
    "best_nb = MultinomialNB(alpha=1.0)\n",
    "best_nb.fit(X_train, y_train)\n",
    "\n",
    "y_pred = best_nb.predict(X_test)\n",
    "\n",
    "cnf_matrix = confusion_matrix(y_test, y_pred)\n",
    "print(\"\\nConfusion Matrix:\\n\", cnf_matrix)\n",
    "\n",
    "print(\"\\nClassification Report:\\n\", classification_report(y_test, y_pred))"
   ]
  },
  {
   "cell_type": "code",
   "execution_count": 12,
   "id": "7721d046",
   "metadata": {},
   "outputs": [
    {
     "data": {
      "image/png": "[encoded data removed]",
      "text/plain": [
       "<Figure size 640x480 with 1 Axes>"
      ]
     },
     "metadata": {},
     "output_type": "display_data"
    },
    {
     "name": "stdout",
     "output_type": "stream",
     "text": [
      "Elapsed Time for learning curve creation: 10.774556398391724 seconds\n"
     ]
    }
   ],
   "source": [
    "# Learning curve\n",
    "start_time = time.time()\n",
    "def plot_learning_curve(X, y, estimator, train_sizes=np.linspace(0.1, 1.0, 10), cv=5):\n",
    "    train_sizes, train_scores, test_scores = learning_curve(estimator, X, y, train_sizes=train_sizes, cv=cv)\n",
    "\n",
    "    train_scores_mean = np.mean(train_scores, axis=1)\n",
    "    test_scores_mean = np.mean(test_scores, axis=1)\n",
    "\n",
    "    plt.plot(train_sizes, train_scores_mean, label='Training score')\n",
    "    plt.plot(train_sizes, test_scores_mean, label='Testing score')\n",
    "\n",
    "    plt.title('Naive Bayes with extra features Learning Curve')\n",
    "    plt.xlabel('Training Size')\n",
    "    plt.ylabel('Score')\n",
    "    plt.legend()\n",
    "    plt.show()\n",
    "    \n",
    "plot_learning_curve(X_test, y_test, best_nb)\n",
    "end_time = time.time()\n",
    "elapsed_time = end_time - start_time\n",
    "print(\"Elapsed Time for learning curve creation:\", elapsed_time, \"seconds\")"
   ]
  },
  {
   "cell_type": "code",
   "execution_count": null,
   "id": "d1e6ba0a",
   "metadata": {},
   "outputs": [],
   "source": []
  }
 ],
 "metadata": {
  "kernelspec": {
   "display_name": "Python 3 (ipykernel)",
   "language": "python",
   "name": "python3"
  },
  "language_info": {
   "codemirror_mode": {
    "name": "ipython",
    "version": 3
   },
   "file_extension": ".py",
   "mimetype": "text/x-python",
   "name": "python",
   "nbconvert_exporter": "python",
   "pygments_lexer": "ipython3",
   "version": "3.11.7"
  }
 },
 "nbformat": 4,
 "nbformat_minor": 5
}
