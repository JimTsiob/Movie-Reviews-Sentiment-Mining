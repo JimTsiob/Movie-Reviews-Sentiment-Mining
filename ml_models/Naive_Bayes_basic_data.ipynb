{
 "cells": [
  {
   "cell_type": "markdown",
   "id": "dbf8a815",
   "metadata": {},
   "source": [
    "## Imports"
   ]
  },
  {
   "cell_type": "code",
   "execution_count": 13,
   "id": "6a17b483",
   "metadata": {},
   "outputs": [
    {
     "name": "stdout",
     "output_type": "stream",
     "text": [
      "imports done.\n"
     ]
    },
    {
     "name": "stderr",
     "output_type": "stream",
     "text": [
      "[nltk_data] Downloading package punkt to\n",
      "[nltk_data]     C:\\Users\\user\\AppData\\Roaming\\nltk_data...\n",
      "[nltk_data]   Package punkt is already up-to-date!\n"
     ]
    }
   ],
   "source": [
    "from sklearn.naive_bayes import MultinomialNB\n",
    "import pandas as pd\n",
    "import numpy as np\n",
    "from pandarallel import pandarallel\n",
    "from sklearn.metrics import confusion_matrix,classification_report\n",
    "from sklearn.model_selection import train_test_split, GridSearchCV\n",
    "from sklearn.feature_extraction.text import HashingVectorizer, CountVectorizer\n",
    "from sklearn.pipeline import Pipeline\n",
    "import nltk\n",
    "import re\n",
    "from nltk.corpus import stopwords\n",
    "from nltk.tokenize import word_tokenize\n",
    "from nltk.stem import WordNetLemmatizer\n",
    "nltk.download('punkt')\n",
    "from sklearn.model_selection import learning_curve\n",
    "import matplotlib.pyplot as plt\n",
    "import time\n",
    "print('imports done.')"
   ]
  },
  {
   "cell_type": "markdown",
   "id": "f5da8a25",
   "metadata": {},
   "source": [
    "## Data loading and pre-processing"
   ]
  },
  {
   "cell_type": "code",
   "execution_count": 2,
   "id": "28700438",
   "metadata": {},
   "outputs": [
    {
     "data": {
      "text/html": [
       "<div>\n",
       "<style scoped>\n",
       "    .dataframe tbody tr th:only-of-type {\n",
       "        vertical-align: middle;\n",
       "    }\n",
       "\n",
       "    .dataframe tbody tr th {\n",
       "        vertical-align: top;\n",
       "    }\n",
       "\n",
       "    .dataframe thead th {\n",
       "        text-align: right;\n",
       "    }\n",
       "</style>\n",
       "<table border=\"1\" class=\"dataframe\">\n",
       "  <thead>\n",
       "    <tr style=\"text-align: right;\">\n",
       "      <th></th>\n",
       "      <th>review</th>\n",
       "      <th>rating</th>\n",
       "      <th>label</th>\n",
       "    </tr>\n",
       "  </thead>\n",
       "  <tbody>\n",
       "    <tr>\n",
       "      <th>3fbe21c4-3046-4b12-abc0-77ebdfaf09b1</th>\n",
       "      <td>I was completely mesmerized by Lekin and espec...</td>\n",
       "      <td>9/10</td>\n",
       "      <td>Positive</td>\n",
       "    </tr>\n",
       "    <tr>\n",
       "      <th>3ff18551-e522-4de2-ba9d-0d11387e62ba</th>\n",
       "      <td>Greatly enjoyed the development of the story l...</td>\n",
       "      <td>9/10</td>\n",
       "      <td>Positive</td>\n",
       "    </tr>\n",
       "    <tr>\n",
       "      <th>ee8306d6-acc4-4b8f-a333-2c86552de3ea</th>\n",
       "      <td>In Lekin, Sameer, a museum curator working for...</td>\n",
       "      <td>9/10</td>\n",
       "      <td>Positive</td>\n",
       "    </tr>\n",
       "    <tr>\n",
       "      <th>9edd5843-c446-4985-80c7-dbfe0b90dd1b</th>\n",
       "      <td>The lines of time are very blurry. Past, prese...</td>\n",
       "      <td>10/10</td>\n",
       "      <td>Positive</td>\n",
       "    </tr>\n",
       "    <tr>\n",
       "      <th>cf960381-1782-40a0-a870-435d9f636d09</th>\n",
       "      <td>Yaara Sili Sili Virah Ki Raat Ka Jalna'Lekin' ...</td>\n",
       "      <td>8/10</td>\n",
       "      <td>Positive</td>\n",
       "    </tr>\n",
       "  </tbody>\n",
       "</table>\n",
       "</div>"
      ],
      "text/plain": [
       "                                                                                 review  \\\n",
       "3fbe21c4-3046-4b12-abc0-77ebdfaf09b1  I was completely mesmerized by Lekin and espec...   \n",
       "3ff18551-e522-4de2-ba9d-0d11387e62ba  Greatly enjoyed the development of the story l...   \n",
       "ee8306d6-acc4-4b8f-a333-2c86552de3ea  In Lekin, Sameer, a museum curator working for...   \n",
       "9edd5843-c446-4985-80c7-dbfe0b90dd1b  The lines of time are very blurry. Past, prese...   \n",
       "cf960381-1782-40a0-a870-435d9f636d09  Yaara Sili Sili Virah Ki Raat Ka Jalna'Lekin' ...   \n",
       "\n",
       "                                     rating     label  \n",
       "3fbe21c4-3046-4b12-abc0-77ebdfaf09b1   9/10  Positive  \n",
       "3ff18551-e522-4de2-ba9d-0d11387e62ba   9/10  Positive  \n",
       "ee8306d6-acc4-4b8f-a333-2c86552de3ea   9/10  Positive  \n",
       "9edd5843-c446-4985-80c7-dbfe0b90dd1b  10/10  Positive  \n",
       "cf960381-1782-40a0-a870-435d9f636d09   8/10  Positive  "
      ]
     },
     "execution_count": 2,
     "metadata": {},
     "output_type": "execute_result"
    }
   ],
   "source": [
    "movie_reviews_dataset = pd.read_json('../dataset_management/basic_dataset.json')\n",
    "\n",
    "# Transpose dataset to put IDs as rows and have 3 columns instead.\n",
    "movie_reviews_dataset = movie_reviews_dataset.T\n",
    "\n",
    "movie_reviews_dataset.head()"
   ]
  },
  {
   "cell_type": "code",
   "execution_count": 3,
   "id": "1ab3e95e",
   "metadata": {},
   "outputs": [
    {
     "data": {
      "text/plain": [
       "\"I was completely mesmerized by Lekin and especially by the castle and Dimple's haunting character who took over the screen whenever she materialized. It brought back memories of Ugetsu, one of my favorite Japanese films. The photography, the music, story, acting was all top notch and I am definitely going to have to see what else Gulzar did. The desert, itself, was as much a character as any of the actors. I would have given Lekin a 10 but, since I do not know Hindi, I have to rely on subtitles and, periodically, the subtitles were a little hard to follow unless you are a speed reader. Also, my biggest gripe with a lot of great Hindi films is that they do not include the subtitles to the songs which was the case on my DVD. I was unable to see for myself why Gulzar won two awards for best lyrics that year. It was also frustrating because, when Dimple's character sang, I am almost certain that knowing the lyrics would have only added to the enjoyment of the film. I still gave Lekin a 9 but if anyone can tell me where I can easily find the lyrics, I would be very grateful.\""
      ]
     },
     "execution_count": 3,
     "metadata": {},
     "output_type": "execute_result"
    }
   ],
   "source": [
    "movie_reviews_dataset['review'].iloc[0]"
   ]
  },
  {
   "cell_type": "code",
   "execution_count": 4,
   "id": "7de7c33f",
   "metadata": {},
   "outputs": [
    {
     "data": {
      "text/plain": [
       "14998"
      ]
     },
     "execution_count": 4,
     "metadata": {},
     "output_type": "execute_result"
    }
   ],
   "source": [
    "len(movie_reviews_dataset)"
   ]
  },
  {
   "cell_type": "code",
   "execution_count": 5,
   "id": "87b23388",
   "metadata": {},
   "outputs": [
    {
     "name": "stdout",
     "output_type": "stream",
     "text": [
      "NaN (before cleanup) ?: \n",
      " review    0\n",
      "rating    0\n",
      "label     0\n",
      "dtype: int64\n",
      "NaN (after cleanup) ?: \n",
      " review    0\n",
      "rating    0\n",
      "label     0\n",
      "dtype: int64\n"
     ]
    }
   ],
   "source": [
    "# Check for NaN values and remove them\n",
    "print(\"NaN (before cleanup) ?: \\n\", movie_reviews_dataset.isnull().sum())\n",
    "\n",
    "movie_reviews_dataset['review'] = movie_reviews_dataset['review'].fillna('')\n",
    "\n",
    "print(\"NaN (after cleanup) ?: \\n\", movie_reviews_dataset.isnull().sum())"
   ]
  },
  {
   "cell_type": "code",
   "execution_count": 6,
   "id": "7345fec7",
   "metadata": {},
   "outputs": [
    {
     "name": "stdout",
     "output_type": "stream",
     "text": [
      "INFO: Pandarallel will run on 4 workers.\n",
      "INFO: Pandarallel will use standard multiprocessing data transfer (pipe) to transfer data between the main process and workers.\n",
      "\n",
      "WARNING: You are on Windows. If you detect any issue with pandarallel, be sure you checked out the Troubleshooting page:\n",
      "https://nalepae.github.io/pandarallel/troubleshooting/\n"
     ]
    },
    {
     "data": {
      "application/vnd.jupyter.widget-view+json": {
       "model_id": "d45332171ca14e8b9024b2dedbc8c4b5",
       "version_major": 2,
       "version_minor": 0
      },
      "text/plain": [
       "VBox(children=(HBox(children=(IntProgress(value=0, description='0.00%', max=3750), Label(value='0 / 3750'))), …"
      ]
     },
     "metadata": {},
     "output_type": "display_data"
    },
    {
     "name": "stdout",
     "output_type": "stream",
     "text": [
      "Example of preprocessing train: \n",
      "completely mesmerized lekin especially castle dimple haunting character took screen whenever materialized brought back memory ugetsu one favorite japanese film photography music story acting top notch definitely going see else gulzar desert much character actor would given lekin  since know hindi rely subtitle periodically subtitle little hard follow unless speed reader also biggest gripe lot great hindi film include subtitle song case dvd unable see gulzar two award best lyric year also frustrating dimple character sang almost certain knowing lyric would added enjoyment film still gave lekin  anyone tell easily find lyric would grateful\n"
     ]
    }
   ],
   "source": [
    "# Text preprocessing for review column\n",
    "# Lower all text\n",
    "\n",
    "movie_reviews_dataset['review'] = movie_reviews_dataset['review'].str.lower()\n",
    "\n",
    "# Initialize pandarallel\n",
    "# I used pandarallel because it applies the functions much faster than a normal pandas apply.\n",
    "pandarallel.initialize(nb_workers=4,progress_bar=True)\n",
    "\n",
    "# Remove all special characters\n",
    "def remove_special_chars(text):\n",
    "    return ''.join(x if x.isalnum() else ' ' for x in text)\n",
    "\n",
    "movie_reviews_dataset['review'] = movie_reviews_dataset['review'].parallel_apply(remove_special_chars)\n",
    "\n",
    "# get stopwords.\n",
    "stop_words = set(stopwords.words('english'))\n",
    "\n",
    "# Remove stop_words\n",
    "def remove_stopwords(text):\n",
    "    words = word_tokenize(text)\n",
    "    return [x for x in words if x not in stop_words]\n",
    "\n",
    "\n",
    "movie_reviews_dataset['review'] = movie_reviews_dataset['review'].apply(remove_stopwords)\n",
    "\n",
    "# Lemmatization\n",
    "def lemmatize_word(text):\n",
    "    wordnet = WordNetLemmatizer()\n",
    "    return \" \".join([wordnet.lemmatize(word) for word in text])\n",
    "\n",
    "\n",
    "movie_reviews_dataset['review'] = movie_reviews_dataset['review'].apply(lemmatize_word)\n",
    "\n",
    "# Remove numbers\n",
    "def remove_numbers(text):\n",
    "    return re.sub(r'\\d+', '', text)\n",
    "\n",
    "movie_reviews_dataset['review'] = movie_reviews_dataset['review'].apply(remove_numbers)\n",
    "\n",
    "print('Example of preprocessing train: ')\n",
    "print(movie_reviews_dataset['review'].iloc[0])"
   ]
  },
  {
   "cell_type": "markdown",
   "id": "d29ef92f",
   "metadata": {},
   "source": [
    "## Model creation and evaluation"
   ]
  },
  {
   "cell_type": "code",
   "execution_count": 22,
   "id": "aa9fa399",
   "metadata": {},
   "outputs": [
    {
     "name": "stdout",
     "output_type": "stream",
     "text": [
      "data vectorization complete.\n"
     ]
    }
   ],
   "source": [
    "X = movie_reviews_dataset['review']\n",
    "Y = movie_reviews_dataset['label']\n",
    "vectorizer = CountVectorizer()\n",
    "X_train, X_test, y_train, y_test = train_test_split(X, Y, test_size=0.2, random_state=42)\n",
    "X_train = vectorizer.fit_transform(X_train)\n",
    "X_test = vectorizer.transform(X_test)\n",
    "print('data vectorization complete.')"
   ]
  },
  {
   "cell_type": "code",
   "execution_count": 23,
   "id": "f63c774a",
   "metadata": {},
   "outputs": [
    {
     "data": {
      "text/html": [
       "<style>#sk-container-id-2 {color: black;}#sk-container-id-2 pre{padding: 0;}#sk-container-id-2 div.sk-toggleable {background-color: white;}#sk-container-id-2 label.sk-toggleable__label {cursor: pointer;display: block;width: 100%;margin-bottom: 0;padding: 0.3em;box-sizing: border-box;text-align: center;}#sk-container-id-2 label.sk-toggleable__label-arrow:before {content: \"▸\";float: left;margin-right: 0.25em;color: #696969;}#sk-container-id-2 label.sk-toggleable__label-arrow:hover:before {color: black;}#sk-container-id-2 div.sk-estimator:hover label.sk-toggleable__label-arrow:before {color: black;}#sk-container-id-2 div.sk-toggleable__content {max-height: 0;max-width: 0;overflow: hidden;text-align: left;background-color: #f0f8ff;}#sk-container-id-2 div.sk-toggleable__content pre {margin: 0.2em;color: black;border-radius: 0.25em;background-color: #f0f8ff;}#sk-container-id-2 input.sk-toggleable__control:checked~div.sk-toggleable__content {max-height: 200px;max-width: 100%;overflow: auto;}#sk-container-id-2 input.sk-toggleable__control:checked~label.sk-toggleable__label-arrow:before {content: \"▾\";}#sk-container-id-2 div.sk-estimator input.sk-toggleable__control:checked~label.sk-toggleable__label {background-color: #d4ebff;}#sk-container-id-2 div.sk-label input.sk-toggleable__control:checked~label.sk-toggleable__label {background-color: #d4ebff;}#sk-container-id-2 input.sk-hidden--visually {border: 0;clip: rect(1px 1px 1px 1px);clip: rect(1px, 1px, 1px, 1px);height: 1px;margin: -1px;overflow: hidden;padding: 0;position: absolute;width: 1px;}#sk-container-id-2 div.sk-estimator {font-family: monospace;background-color: #f0f8ff;border: 1px dotted black;border-radius: 0.25em;box-sizing: border-box;margin-bottom: 0.5em;}#sk-container-id-2 div.sk-estimator:hover {background-color: #d4ebff;}#sk-container-id-2 div.sk-parallel-item::after {content: \"\";width: 100%;border-bottom: 1px solid gray;flex-grow: 1;}#sk-container-id-2 div.sk-label:hover label.sk-toggleable__label {background-color: #d4ebff;}#sk-container-id-2 div.sk-serial::before {content: \"\";position: absolute;border-left: 1px solid gray;box-sizing: border-box;top: 0;bottom: 0;left: 50%;z-index: 0;}#sk-container-id-2 div.sk-serial {display: flex;flex-direction: column;align-items: center;background-color: white;padding-right: 0.2em;padding-left: 0.2em;position: relative;}#sk-container-id-2 div.sk-item {position: relative;z-index: 1;}#sk-container-id-2 div.sk-parallel {display: flex;align-items: stretch;justify-content: center;background-color: white;position: relative;}#sk-container-id-2 div.sk-item::before, #sk-container-id-2 div.sk-parallel-item::before {content: \"\";position: absolute;border-left: 1px solid gray;box-sizing: border-box;top: 0;bottom: 0;left: 50%;z-index: -1;}#sk-container-id-2 div.sk-parallel-item {display: flex;flex-direction: column;z-index: 1;position: relative;background-color: white;}#sk-container-id-2 div.sk-parallel-item:first-child::after {align-self: flex-end;width: 50%;}#sk-container-id-2 div.sk-parallel-item:last-child::after {align-self: flex-start;width: 50%;}#sk-container-id-2 div.sk-parallel-item:only-child::after {width: 0;}#sk-container-id-2 div.sk-dashed-wrapped {border: 1px dashed gray;margin: 0 0.4em 0.5em 0.4em;box-sizing: border-box;padding-bottom: 0.4em;background-color: white;}#sk-container-id-2 div.sk-label label {font-family: monospace;font-weight: bold;display: inline-block;line-height: 1.2em;}#sk-container-id-2 div.sk-label-container {text-align: center;}#sk-container-id-2 div.sk-container {/* jupyter's `normalize.less` sets `[hidden] { display: none; }` but bootstrap.min.css set `[hidden] { display: none !important; }` so we also need the `!important` here to be able to override the default hidden behavior on the sphinx rendered scikit-learn.org. See: https://github.com/scikit-learn/scikit-learn/issues/21755 */display: inline-block !important;position: relative;}#sk-container-id-2 div.sk-text-repr-fallback {display: none;}</style><div id=\"sk-container-id-2\" class=\"sk-top-container\"><div class=\"sk-text-repr-fallback\"><pre>MultinomialNB()</pre><b>In a Jupyter environment, please rerun this cell to show the HTML representation or trust the notebook. <br />On GitHub, the HTML representation is unable to render, please try loading this page with nbviewer.org.</b></div><div class=\"sk-container\" hidden><div class=\"sk-item\"><div class=\"sk-estimator sk-toggleable\"><input class=\"sk-toggleable__control sk-hidden--visually\" id=\"sk-estimator-id-2\" type=\"checkbox\" checked><label for=\"sk-estimator-id-2\" class=\"sk-toggleable__label sk-toggleable__label-arrow\">MultinomialNB</label><div class=\"sk-toggleable__content\"><pre>MultinomialNB()</pre></div></div></div></div></div>"
      ],
      "text/plain": [
       "MultinomialNB()"
      ]
     },
     "execution_count": 23,
     "metadata": {},
     "output_type": "execute_result"
    }
   ],
   "source": [
    "naive_bayes = MultinomialNB()\n",
    "naive_bayes.fit(X_train, y_train)"
   ]
  },
  {
   "cell_type": "code",
   "execution_count": 12,
   "id": "7017ed24",
   "metadata": {},
   "outputs": [
    {
     "name": "stdout",
     "output_type": "stream",
     "text": [
      "\n",
      "Confusion Matrix:\n",
      " [[ 317   91  170]\n",
      " [  93  163  343]\n",
      " [  61  166 1596]]\n",
      "\n",
      "Classification Report:\n",
      "               precision    recall  f1-score   support\n",
      "\n",
      "    Negative       0.67      0.55      0.60       578\n",
      "     Neutral       0.39      0.27      0.32       599\n",
      "    Positive       0.76      0.88      0.81      1823\n",
      "\n",
      "    accuracy                           0.69      3000\n",
      "   macro avg       0.61      0.57      0.58      3000\n",
      "weighted avg       0.67      0.69      0.67      3000\n",
      "\n"
     ]
    }
   ],
   "source": [
    "y_pred = naive_bayes.predict(X_test)\n",
    "\n",
    "cnf_matrix = confusion_matrix(y_test, y_pred)\n",
    "print(\"\\nConfusion Matrix:\\n\", cnf_matrix)\n",
    "\n",
    "print(\"\\nClassification Report:\\n\", classification_report(y_test, y_pred))"
   ]
  },
  {
   "cell_type": "markdown",
   "id": "69837116",
   "metadata": {},
   "source": [
    "## Hyperparameter tuning"
   ]
  },
  {
   "cell_type": "code",
   "execution_count": 17,
   "id": "13d9d478",
   "metadata": {},
   "outputs": [
    {
     "name": "stdout",
     "output_type": "stream",
     "text": [
      "Elapsed Time for grid_search: 3.268280267715454 seconds\n",
      "Best Parameters: {'alpha': 1}\n",
      "Best Score: 0.692614874253161\n"
     ]
    }
   ],
   "source": [
    "start_time = time.time()\n",
    "pipeline = Pipeline([\n",
    "    ('vect', CountVectorizer()),  # Feature extraction\n",
    "    ('clf', MultinomialNB())       # Classifier\n",
    "])\n",
    "\n",
    "best_nb = MultinomialNB()\n",
    "\n",
    "param={'alpha': [0.00001, 0.0001, 0.001, 0.1, 1, 10, 100,1000]}\n",
    "\n",
    "\n",
    "grid_search = GridSearchCV(estimator=best_nb, param_grid=param, cv=5, n_jobs=-1)\n",
    "grid_search.fit(X_train, y_train)\n",
    "\n",
    "\n",
    "end_time = time.time()\n",
    "elapsed_time = end_time - start_time\n",
    "print(\"Elapsed Time for grid_search:\", elapsed_time, \"seconds\")\n",
    "\n",
    "print(\"Best Parameters:\", grid_search.best_params_)\n",
    "print(\"Best Score:\", grid_search.best_score_)"
   ]
  },
  {
   "cell_type": "code",
   "execution_count": 18,
   "id": "c5687430",
   "metadata": {},
   "outputs": [
    {
     "name": "stdout",
     "output_type": "stream",
     "text": [
      "\n",
      "Confusion Matrix:\n",
      " [[ 317   91  170]\n",
      " [  93  163  343]\n",
      " [  61  166 1596]]\n",
      "\n",
      "Classification Report:\n",
      "               precision    recall  f1-score   support\n",
      "\n",
      "    Negative       0.67      0.55      0.60       578\n",
      "     Neutral       0.39      0.27      0.32       599\n",
      "    Positive       0.76      0.88      0.81      1823\n",
      "\n",
      "    accuracy                           0.69      3000\n",
      "   macro avg       0.61      0.57      0.58      3000\n",
      "weighted avg       0.67      0.69      0.67      3000\n",
      "\n"
     ]
    }
   ],
   "source": [
    "best_nb = MultinomialNB(alpha=1.0)\n",
    "\n",
    "best_nb.fit(X_train, y_train)\n",
    "\n",
    "y_pred = best_nb.predict(X_test)\n",
    "\n",
    "cnf_matrix = confusion_matrix(y_test, y_pred)\n",
    "print(\"\\nConfusion Matrix:\\n\", cnf_matrix)\n",
    "\n",
    "print(\"\\nClassification Report:\\n\", classification_report(y_test, y_pred))"
   ]
  },
  {
   "cell_type": "code",
   "execution_count": 19,
   "id": "f034e6d0",
   "metadata": {},
   "outputs": [
    {
     "data": {
      "image/png": "[encoded data removed]",
      "text/plain": [
       "<Figure size 640x480 with 1 Axes>"
      ]
     },
     "metadata": {},
     "output_type": "display_data"
    },
    {
     "name": "stdout",
     "output_type": "stream",
     "text": [
      "Elapsed Time for learning curve creation: 0.6306254863739014 seconds\n"
     ]
    }
   ],
   "source": [
    "# Learning curve\n",
    "start_time = time.time()\n",
    "def plot_learning_curve(X, y, estimator, train_sizes=np.linspace(0.1, 1.0, 10), cv=5):\n",
    "    train_sizes, train_scores, test_scores = learning_curve(estimator, X, y, train_sizes=train_sizes, cv=cv)\n",
    "\n",
    "    train_scores_mean = np.mean(train_scores, axis=1)\n",
    "    test_scores_mean = np.mean(test_scores, axis=1)\n",
    "\n",
    "    plt.plot(train_sizes, train_scores_mean, label='Training score')\n",
    "    plt.plot(train_sizes, test_scores_mean, label='Testing score')\n",
    "\n",
    "    plt.title('Learning Curve')\n",
    "    plt.xlabel('Training Size')\n",
    "    plt.ylabel('Score')\n",
    "    plt.legend()\n",
    "    plt.show()\n",
    "    \n",
    "plot_learning_curve(X_test, y_test, best_nb)\n",
    "end_time = time.time()\n",
    "elapsed_time = end_time - start_time\n",
    "print(\"Elapsed Time for learning curve creation:\", elapsed_time, \"seconds\")"
   ]
  },
  {
   "cell_type": "code",
   "execution_count": null,
   "id": "10b7cc91",
   "metadata": {},
   "outputs": [],
   "source": []
  }
 ],
 "metadata": {
  "kernelspec": {
   "display_name": "Python 3 (ipykernel)",
   "language": "python",
   "name": "python3"
  },
  "language_info": {
   "codemirror_mode": {
    "name": "ipython",
    "version": 3
   },
   "file_extension": ".py",
   "mimetype": "text/x-python",
   "name": "python",
   "nbconvert_exporter": "python",
   "pygments_lexer": "ipython3",
   "version": "3.11.5"
  }
 },
 "nbformat": 4,
 "nbformat_minor": 5
}
